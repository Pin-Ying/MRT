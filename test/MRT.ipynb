{
 "cells": [
  {
   "cell_type": "code",
   "execution_count": null,
   "id": "a2db8b3a-13a7-44e5-b3ba-2b489e8b76ba",
   "metadata": {},
   "outputs": [],
   "source": [
    "import pandas as pd\n",
    "import numpy as np\n",
    "import MRT_tool\n",
    "import matplotlib.pyplot as plt"
   ]
  },
  {
   "cell_type": "markdown",
   "id": "5c58633e-9f26-4ec4-ad33-d54659876640",
   "metadata": {},
   "source": [
    "### 用url取得資料(因為資料太大後來直接下載csv)"
   ]
  },
  {
   "cell_type": "raw",
   "id": "06b75af9-cf42-400d-bdfe-2ca8132b4ae7",
   "metadata": {},
   "source": [
    "MRT_URL = \"https://data.taipei/api/frontstage/tpeod/dataset/resource.download?rid=eb481f58-1238-4cff-8caa-fa7bb20cb4f4\"\n",
    "time_list=[202401,202402]\n",
    "total_data=pd.DataFrame([])\n",
    "\n",
    "for when in time_list:\n",
    "    print(f'正在取得{when}資料...')\n",
    "    r=MRT_tool.get_url(MRT_URL,when)\n",
    "    print(f'已取得{when}資料')\n",
    "    \n",
    "    url_content=list(r.text.split())\n",
    "    for i in range(len(url_content)):\n",
    "        url_content[i]=list(url_content[i].split(\",\"))\n",
    "    \n",
    "    df=pd.DataFrame(url_content[1:],columns=url_content[0])\n",
    "    \n",
    "    # 清除人次為0\n",
    "    df=df[(df[\"人次\"]!=\"0\")]\n",
    "\n",
    "    # 將人次用成整數\n",
    "    df[\"人次\"]=df[\"人次\"].astype(int)\n",
    "    \n",
    "    # 將日期 的 type 轉換成 datetime\n",
    "    df[\"日期\"]=pd.to_datetime(df[\"日期\"])\n",
    "    total_data=pd.concat([total_data,df])"
   ]
  },
  {
   "cell_type": "markdown",
   "id": "733f72b4-8840-43a2-94fd-7026b0885d97",
   "metadata": {},
   "source": [
    "### 取得csv檔資料並轉成DataFrame"
   ]
  },
  {
   "cell_type": "code",
   "execution_count": null,
   "id": "5ee9a32c",
   "metadata": {},
   "outputs": [],
   "source": [
    "MRT_URL = \"臺北捷運每日分時各站OD流量統計資料_202401.csv\"\n",
    "time_list=[\"202401\",\"202402\"]\n",
    "total_data=pd.DataFrame([])\n",
    "\n",
    "for when in time_list:\n",
    "    url_content=f\"臺北捷運每日分時各站OD流量統計資料_{when}.csv\"\n",
    "    with open(url_content,encoding=\"utf-8\") as f:\n",
    "        df=pd.read_csv(f)\n",
    "\n",
    "    # 清除人次為0\n",
    "    df=df[(df[\"人次\"]!=0)]\n",
    "    \n",
    "    # 將日期 的 type 轉換成 datetime\n",
    "    df[\"日期\"]=pd.to_datetime(df[\"日期\"])\n",
    "    df.index=df[\"日期\"]\n",
    "    del df[\"日期\"]\n",
    "\n",
    "    total_data=pd.concat([total_data,df])\n",
    "\n",
    "total_data"
   ]
  },
  {
   "cell_type": "markdown",
   "id": "cc68c9c5-2268-490a-add0-51c0482ccd0f",
   "metadata": {},
   "source": [
    "### 捷運站篩選"
   ]
  },
  {
   "cell_type": "code",
   "execution_count": null,
   "id": "e208049c-5591-436a-b58d-e7a634b65cbf",
   "metadata": {},
   "outputs": [],
   "source": [
    "# 選擇捷運站\n",
    "station_list=[\"圓山\",\"東門\",\"台北車站\"]\n",
    "total_station=[]\n",
    "\n",
    "for station in station_list:\n",
    "    print(f'正在取得{station}捷運站資料...')\n",
    "    df_get=MRT_tool.df_get_station(total_data,station)\n",
    "    print(f'已取得{station}捷運站資料')\n",
    "    print(df_get)\n",
    "    total_station.append(df_get)\n",
    "print(\"資料擷取完成\")"
   ]
  },
  {
   "cell_type": "markdown",
   "id": "dc7b65df-9484-4137-abd5-f5f21f7cc71e",
   "metadata": {},
   "source": [
    "### 要分析哪站捷運站\n",
    "- 用st做為所選捷運站的ID"
   ]
  },
  {
   "cell_type": "code",
   "execution_count": null,
   "id": "988903c8-34cd-4b28-8b91-b13c6212de2b",
   "metadata": {},
   "outputs": [],
   "source": [
    "st=range(len(station_list))"
   ]
  },
  {
   "cell_type": "code",
   "execution_count": null,
   "id": "eba28085-122e-443a-b0ca-61c3386401c5",
   "metadata": {},
   "outputs": [],
   "source": [
    "st_=total_station[st[0]]\n",
    "st_"
   ]
  },
  {
   "cell_type": "markdown",
   "id": "ee908874-4aff-4210-a7ce-455fde810daa",
   "metadata": {},
   "source": [
    "### 特定日期之進站出站量"
   ]
  },
  {
   "cell_type": "code",
   "execution_count": null,
   "id": "2621ab13-e914-45e8-b2bc-f6ddef0b4a42",
   "metadata": {},
   "outputs": [],
   "source": [
    "df=st_.loc[\"2024-02-01\"]\n",
    "df"
   ]
  },
  {
   "cell_type": "code",
   "execution_count": null,
   "id": "e94b25ef-80c5-45be-a2cc-411db853e7b0",
   "metadata": {},
   "outputs": [],
   "source": [
    "enter=df[df[\"進站\"]==station_list[st[0]]]\n",
    "leave=df[df[\"出站\"]==station_list[st[0]]]\n",
    "enter,leave"
   ]
  },
  {
   "cell_type": "code",
   "execution_count": null,
   "id": "961267db-3b94-4e16-928b-c74838e86cef",
   "metadata": {},
   "outputs": [],
   "source": [
    "x=sorted(list(set(df[\"時段\"])))\n",
    "y1=[enter[(enter[\"時段\"]==i)][\"人次\"].sum() for i in x]\n",
    "y2=[leave[(leave[\"時段\"]==i)][\"人次\"].sum() for i in x]"
   ]
  },
  {
   "cell_type": "code",
   "execution_count": null,
   "id": "4fc9b0dc-d4f3-409c-99f0-e8ae767905ec",
   "metadata": {},
   "outputs": [],
   "source": [
    "MRT_tool.plot_fig(f\"{station_list[st[0]]}2024-02-01之進出站量\",\"時間\",\"總人數\")\n",
    "\n",
    "plt.xticks(np.linspace(0,23,24))\n",
    "\n",
    "plt.plot(x,y1,\"-o\",x,y2,\"-x\")\n",
    "plt.legend([\"進站\",\"出站\"])\n",
    "\n",
    "plt.savefig(f\"{station_list[st[0]]}2024-02-01之進出站量.png\")\n",
    "plt.show()"
   ]
  },
  {
   "cell_type": "markdown",
   "id": "4be3c669-98e5-41dd-8035-e4bdf5224eb2",
   "metadata": {},
   "source": [
    "### 一次分析所有挑選捷運站/特定日期下的出入站量"
   ]
  },
  {
   "cell_type": "code",
   "execution_count": null,
   "id": "b10c16fe-7d5c-41f7-b6a3-3033606d75a5",
   "metadata": {},
   "outputs": [],
   "source": [
    "time=\"2024-02-07\"\n",
    "\n",
    "MRT_tool.plot_fig(f\"捷運站出入總人數{time} v.s. 時段(每小時)\",\"時間\",\"總人數\")\n",
    "\n",
    "plt.xticks(np.linspace(0,23,24))\n",
    "\n",
    "plt_list=[]\n",
    "\n",
    "for i in st:\n",
    "    # print(total_station[st[i]])\n",
    "    st_=total_station[st[i]]\n",
    "    df=st_[st_.index==time]\n",
    "    enter=df[df[\"進站\"]==station_list[st[i]]]\n",
    "    leave=df[df[\"出站\"]==station_list[st[i]]]\n",
    "\n",
    "    x=sorted(list(set(df[\"時段\"])))\n",
    "    y1=[enter[(enter[\"時段\"]==i)][\"人次\"].sum() for i in x]\n",
    "    y2=[leave[(leave[\"時段\"]==i)][\"人次\"].sum() for i in x]\n",
    "\n",
    "    \n",
    "    plt.plot(x,y1,\"-o\",x,y2,\"-x\")\n",
    "    plt_list.append(f\"{station_list[st[i]]}進站\")\n",
    "    plt_list.append(f\"{station_list[st[i]]}出站\")\n",
    "\n",
    "plt.legend(plt_list)\n",
    "\n",
    "plt.savefig(f\"捷運站出入總人數{time} v.s. 時段(每小時).png\")\n",
    "plt.show()\n"
   ]
  },
  {
   "cell_type": "markdown",
   "id": "8c3c4356-4cac-41a3-866e-0d04ccd0725a",
   "metadata": {},
   "source": [
    "### 節日 vs 平日(二月/圓山)\n",
    "- x軸: 每小時\n",
    "- y軸: 每日平均人流出入量"
   ]
  },
  {
   "cell_type": "code",
   "execution_count": null,
   "id": "c20d9a6d-9997-4c76-af7e-eb649e3b405b",
   "metadata": {},
   "outputs": [],
   "source": [
    "st_=total_station[st[0]]\n",
    "st_[\"節日\"]=False\n",
    "st_"
   ]
  },
  {
   "cell_type": "code",
   "execution_count": null,
   "id": "3839c1d6-6c04-44be-9810-421f749c31da",
   "metadata": {},
   "outputs": [],
   "source": [
    "st_[(st_.index==\"2024-02-01\") & (st_[\"時段\"]==8)][\"人次\"].sum()"
   ]
  },
  {
   "cell_type": "raw",
   "id": "861ae166-d852-4d71-be79-e0d642b75303",
   "metadata": {},
   "source": [
    "### 直接將假日弄成list，並將每組日期帶入檢查是否為假日\n",
    "\n",
    "hds=[\"03\",\"04\",\"08\",\"09\",\"10\",\"11\",\"12\",\"13\",\"14\",\"17\",\"18\",\"24\",\"25\",\"28\"]\n",
    "st_[\"假日\"]=[d.strftime(\"%d\") in hds for d in st_.index]\n",
    "st_[st_[\"假日\"]==True]"
   ]
  },
  {
   "cell_type": "markdown",
   "id": "e072bc5c-7147-4d8b-ad21-cf8b55cee64b",
   "metadata": {},
   "source": [
    "### 使用 holidays 抓出台灣的節日"
   ]
  },
  {
   "cell_type": "code",
   "execution_count": null,
   "id": "58f076c5-351c-42e9-bfc5-df842d63062e",
   "metadata": {},
   "outputs": [],
   "source": [
    "import holidays"
   ]
  },
  {
   "cell_type": "code",
   "execution_count": null,
   "id": "905dd9c8-f931-41f4-a923-de039c1a9097",
   "metadata": {},
   "outputs": [],
   "source": [
    "tw_holidays = holidays.TW()\n",
    "tw_holidays"
   ]
  },
  {
   "cell_type": "code",
   "execution_count": null,
   "id": "27ee1d3a-5d2a-4dec-8da3-9fc17ecd6783",
   "metadata": {},
   "outputs": [],
   "source": [
    "# 測試\n",
    "\"2024-02-03\" in tw_holidays"
   ]
  },
  {
   "cell_type": "code",
   "execution_count": null,
   "id": "3e852182-c964-44bf-bd70-26d88656d6be",
   "metadata": {},
   "outputs": [],
   "source": [
    "st_[\"節日\"]=[d in tw_holidays for d in st_.index]\n",
    "st_[st_.index==\"2024-02\"]"
   ]
  },
  {
   "cell_type": "code",
   "execution_count": null,
   "id": "1ec6ea41-939b-41bd-9cfc-322060273982",
   "metadata": {},
   "outputs": [],
   "source": [
    "total_d=len(set(st_.index))\n",
    "total_d"
   ]
  },
  {
   "cell_type": "code",
   "execution_count": null,
   "id": "57e07966-b7cf-415e-8e75-41e2972ba242",
   "metadata": {},
   "outputs": [],
   "source": [
    "tw_holidays"
   ]
  },
  {
   "cell_type": "code",
   "execution_count": null,
   "id": "bdfcb3f2-1e96-4670-831c-91265bc10e79",
   "metadata": {},
   "outputs": [],
   "source": [
    "df_hd=st_[st_[\"節日\"]==True]\n",
    "df_nd=st_[st_[\"節日\"]==False]\n",
    "\n",
    "x=sorted(list(set(st_[\"時段\"])))\n",
    "y1=[df_hd[(df_hd[\"時段\"]==i)][\"人次\"].sum()/len(tw_holidays) for i in x]\n",
    "y2=[df_nd[(df_nd[\"時段\"]==i)][\"人次\"].sum()/(total_d-len(tw_holidays)) for i in x]\n",
    "\n",
    "MRT_tool.plot_fig(\"節日 vs 平日(一月+二月/圓山)\",\"時間\",\"平均人數\")\n",
    "\n",
    "plt.xticks(np.linspace(0,23,24))\n",
    "\n",
    "plt.plot(x,y1,\"-o\")\n",
    "plt.plot(x,y2,\"-x\")\n",
    "\n",
    "plt.legend([\"節日\",\"平日\"])\n",
    "\n",
    "plt.savefig(f\"節日 vs 平日(一月+二月_圓山).png\")\n",
    "plt.show()"
   ]
  },
  {
   "cell_type": "markdown",
   "id": "5728aec9-88f5-4c11-97dc-a3b8916fbc1e",
   "metadata": {},
   "source": [
    "### 下雨是否影響捷運人潮?\n",
    "- 雨天 vs 無雨"
   ]
  },
  {
   "cell_type": "code",
   "execution_count": null,
   "id": "4d80032e-18ac-4a88-aa1f-2bc86b2e2e7d",
   "metadata": {
    "scrolled": true
   },
   "outputs": [],
   "source": [
    "df_rain=pd.read_csv(\"Rain_2024-02.csv\",encoding=\"utf-8\")\n",
    "\n",
    "df_rain"
   ]
  },
  {
   "cell_type": "code",
   "execution_count": null,
   "id": "0c39ada8-d1ba-450b-9ca1-92224a7173a3",
   "metadata": {},
   "outputs": [],
   "source": [
    "df_rain.index=pd.to_datetime(df_rain[\"Date\"])\n",
    "del df_rain[\"Date\"]"
   ]
  },
  {
   "cell_type": "code",
   "execution_count": null,
   "id": "362d8774-ddc0-4646-aafc-86910c2b6731",
   "metadata": {},
   "outputs": [],
   "source": [
    "rain_dates=df_rain[df_rain[\"Rain\"]==True]\n",
    "rain_dates.index"
   ]
  },
  {
   "cell_type": "code",
   "execution_count": null,
   "id": "c397f4b3-dd92-4e9b-85a2-dd9f42010c85",
   "metadata": {},
   "outputs": [],
   "source": [
    "st_Feb=st_[\"2024-02\":\"2024-02\"]\n",
    "st_Feb"
   ]
  },
  {
   "cell_type": "code",
   "execution_count": null,
   "id": "7f0cc891-a93f-4de3-b20a-3352b10e399d",
   "metadata": {
    "scrolled": true
   },
   "outputs": [],
   "source": [
    "for d in st_Feb.index:\n",
    "    if d in df_rain.index:\n",
    "        print(df_rain.loc[d,][\"Rain\"])"
   ]
  },
  {
   "cell_type": "code",
   "execution_count": null,
   "id": "18329b71-2b59-4be3-9869-29b8ca40da83",
   "metadata": {},
   "outputs": [],
   "source": [
    "st_Feb[\"下雨\"]=[df_rain.loc[d,][\"Rain\"] for d in st_Feb.index]\n",
    "st_Feb.loc[\"2024-02-01\",]"
   ]
  },
  {
   "cell_type": "code",
   "execution_count": null,
   "id": "8acbca7e-55ca-48db-9575-67fd1346972c",
   "metadata": {
    "scrolled": true
   },
   "outputs": [],
   "source": [
    "df_rd=st_Feb[st_Feb[\"下雨\"]==True]\n",
    "df_sd=st_Feb[st_Feb[\"下雨\"]==False]\n",
    "\n",
    "x=sorted(list(set(st_Feb[\"時段\"])))\n",
    "y1=[df_rd[(df_rd[\"時段\"]==i)][\"人次\"].sum()/len(rain_dates) for i in x]\n",
    "y2=[df_sd[(df_sd[\"時段\"]==i)][\"人次\"].sum()/(len(df_rain)-len(rain_dates)) for i in x]\n",
    "\n",
    "MRT_tool.plot_fig(\"雨天 vs 晴天(二月/圓山)\",\"時間\",\"平均人數\")\n",
    "\n",
    "plt.xticks(np.linspace(0,23,24))\n",
    "\n",
    "plt.plot(x,y1,\"-o\")\n",
    "plt.plot(x,y2,\"-x\")\n",
    "\n",
    "plt.legend([\"雨天\",\"晴天\"])\n",
    "\n",
    "plt.savefig(\"雨天 vs 晴天(二月_圓山).png\")\n",
    "plt.show()"
   ]
  },
  {
   "cell_type": "code",
   "execution_count": null,
   "id": "e5a2f580-78e3-4369-9998-22b5d35fd783",
   "metadata": {},
   "outputs": [],
   "source": [
    "df_rain=pd.read_csv(\"Rain_2024-01.csv\",encoding=\"utf-8\")\n",
    "\n",
    "df_rain.index=pd.to_datetime(df_rain[\"Date\"])\n",
    "\n",
    "del df_rain[\"Date\"]\n",
    "\n",
    "rain_dates=df_rain[df_rain[\"Rain\"]==True]\n",
    "\n",
    "st_Jan=st_[:\"2024-01\"]\n",
    "\n",
    "st_Jan[\"下雨\"]=[df_rain.loc[d,][\"Rain\"] for d in st_Jan.index]\n",
    "\n",
    "# 製圖\n",
    "\n",
    "df_rd=st_Jan[st_Jan[\"下雨\"]==True]\n",
    "df_sd=st_Jan[st_Jan[\"下雨\"]==False]\n",
    "\n",
    "x=sorted(list(set(st_Jan[\"時段\"])))\n",
    "y1=[df_rd[(df_rd[\"時段\"]==i)][\"人次\"].sum()/len(rain_dates) for i in x]\n",
    "y2=[df_sd[(df_sd[\"時段\"]==i)][\"人次\"].sum()/(len(df_rain)-len(rain_dates)) for i in x]\n",
    "\n",
    "MRT_tool.plot_fig(\"雨天 vs 晴天(一月/圓山)\",\"時間\",\"平均人數\")\n",
    "\n",
    "plt.xticks(np.linspace(0,23,24))\n",
    "\n",
    "plt.plot(x,y1,\"-o\")\n",
    "plt.plot(x,y2,\"-x\")\n",
    "\n",
    "plt.legend([\"雨天\",\"晴天\"])\n",
    "\n",
    "plt.savefig(\"雨天 vs 晴天(一月_圓山).png\")\n",
    "plt.show()"
   ]
  },
  {
   "cell_type": "code",
   "execution_count": null,
   "id": "a861f619-c6ca-43b5-b99e-a79918b15f4f",
   "metadata": {},
   "outputs": [],
   "source": []
  }
 ],
 "metadata": {
  "kernelspec": {
   "display_name": "Python 3 (ipykernel)",
   "language": "python",
   "name": "python3"
  },
  "language_info": {
   "codemirror_mode": {
    "name": "ipython",
    "version": 3
   },
   "file_extension": ".py",
   "mimetype": "text/x-python",
   "name": "python",
   "nbconvert_exporter": "python",
   "pygments_lexer": "ipython3",
   "version": "3.11.5"
  }
 },
 "nbformat": 4,
 "nbformat_minor": 5
}
